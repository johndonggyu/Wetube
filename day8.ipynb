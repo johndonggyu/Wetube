{
 "cells": [
  {
   "cell_type": "markdown",
   "metadata": {},
   "source": [
    "# 8일차 4.3 (ES6 with Webpack)\n",
    "\n",
    "- webpack -w : watchs files(nodemon 같은 역할)\n",
    "- @babel/polyfill  : 브라우저의 구멍을 메우는 js file이다."
   ]
  },
  {
   "cell_type": "code",
   "execution_count": null,
   "metadata": {},
   "outputs": [],
   "source": [
    "// assets/js/main.js\n",
    "\n",
    "import \"../scss/styles.scss\";\n",
    "\n",
    "const something = async () => {\n",
    "\tconsole.log(\"something\");\n",
    "}\n",
    "\n",
    "/*\n",
    " 위 코드를 webpack 한테 보내면, webpack은 static/main.js 에 알아서 잘 여러 옵션들을 적용해서 script 파일을 만들어준다.\n",
    " 완전 쩌는 도구임!!!\n",
    "*/"
   ]
  },
  {
   "cell_type": "markdown",
   "metadata": {},
   "source": [
    "# 8일차 5.0 (SCSS and Making the Header)\n",
    "\n",
    "- reset css : 모든 걸 초기화 하는 용도의 css를 의미\n",
    "- sass 파일에만 _(underscore)를 붙인다고 함(개인취향)\n",
    "- 이번 챕터에서는 scss로 테마색, reset 코드와 뼈대 파일을 만들었고, header.scss를 작성함. scss 문법은 아래 내용 정도 다룸.\n",
    "\n",
    "```\n",
    ".header .header__wrapper 처럼 안해도\n",
    ".header{\n",
    "   .header__wrapper\n",
    "}\n",
    "과 같이 할 수 있음\n",
    "selector을 parent 안에 둘 수 있음\n",
    ".header__column:last-child\n",
    "라고 했던 것도\n",
    ".header {\n",
    "    &:last-child\n",
    "}\n",
    "로 표시 가능함\n",
    "\n",
    "input::placeholder\n",
    "::는 state같은거에 붙인다고 함. ex) hover\n",
    "```"
   ]
  },
  {
   "cell_type": "code",
   "execution_count": null,
   "metadata": {},
   "outputs": [],
   "source": []
  }
 ],
 "metadata": {
  "kernelspec": {
   "display_name": "Javascript (Node.js)",
   "language": "javascript",
   "name": "javascript"
  },
  "language_info": {
   "file_extension": ".js",
   "mimetype": "application/javascript",
   "name": "javascript",
   "version": "10.20.1"
  }
 },
 "nbformat": 4,
 "nbformat_minor": 4
}
