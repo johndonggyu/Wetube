{
 "cells": [
  {
   "cell_type": "markdown",
   "metadata": {},
   "source": [
    "# 6일차 3.11 (Installing ESLint)\n",
    "\n",
    "- const videos = await Video.find({}).sort({ '_id': -1 }); // -1 은 반대로 정렬한다는 의미\n",
    "- eslint : 기본적으론 변수가 존재하지 않는데도 에러로 표시를 안해줌. eslint 깔면 도와줌.\n",
    "- eslint --init : eslint 초기설정\n",
    "\n",
    "    √ How would you like to use ESLint? · style       \n",
    "    \n",
    "    √ What type of modules does your project use? · esm\n",
    "    \n",
    "    √ Which framework does your project use? · none\n",
    "    \n",
    "    √ Does your project use TypeScript? · No / Yes\n",
    "    \n",
    "    √ Where does your code run? · browser\n",
    "    \n",
    "    √ How would you like to define a style for your project? · guide\n",
    "    \n",
    "    √ Which style guide do you want to follow? · airbnb\n",
    "    \n",
    "    √ What format do you want your config file to be in? · JavaScript\n",
    "    \n",
    "\n",
    "- npm install eslint, eslint-config-prettier, eslint-plugin-prettier, prettier\n",
    "- eslilnt에서는 console.log를 쓰지말라고함. 이 때 eslintrc.js 에서 rules: { \"no-console\": \"off\" } 로 경고 없앨 수 있음."
   ]
  },
  {
   "cell_type": "markdown",
   "metadata": {},
   "source": [
    "# 6일차 3.12 (Searching Videos)\n",
    "\n",
    "- "
   ]
  },
  {
   "cell_type": "code",
   "execution_count": null,
   "metadata": {},
   "outputs": [],
   "source": []
  }
 ],
 "metadata": {
  "kernelspec": {
   "display_name": "Javascript (Node.js)",
   "language": "javascript",
   "name": "javascript"
  },
  "language_info": {
   "file_extension": ".js",
   "mimetype": "application/javascript",
   "name": "javascript",
   "version": "10.20.1"
  }
 },
 "nbformat": 4,
 "nbformat_minor": 4
}
