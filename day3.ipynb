{
 "cells": [
  {
   "cell_type": "markdown",
   "metadata": {},
   "source": [
    "# 3일차 - 자습 - BEM 방법론\n",
    "\n",
    "- 유지보수 하기 좋은 방법\n",
    "- BEM (Block Element Modifier)\n",
    "- ex) header__form--email\n",
    "- 오직 클래스명에만 활용할 수 있음\n",
    "- CSS/Sass 파일에서 더 일관된 코딩 구조를 만듦\n",
    "- .block(전체를 감싸고 있는 블록요소)__element(내부 요소)--modifier(기능)\n",
    "- 참고 : https://webclub.tistory.com/263"
   ]
  },
  {
   "cell_type": "markdown",
   "metadata": {},
   "source": [
    "# 3일차 - 2.19 (Log in HTML)\n",
    "\n",
    "- BEM 복습함\n",
    "- template에서 예약어 text 처리하는 법 배움"
   ]
  },
  {
   "cell_type": "code",
   "execution_count": null,
   "metadata": {},
   "outputs": [],
   "source": [
    ".social-login\n",
    "\tbutton.social-login--github\n",
    "\t\tspan\n",
    "\t\t\ti.fab.fa-github\n",
    "\t\t|&nbsp;Continue with Github\n",
    "\tbutton.social-login--facebook\n",
    "\t\tspan\n",
    "\t\t\ti.fab.fa-facebook\n",
    "\t\t|&nbsp;Continue with Facebook"
   ]
  },
  {
   "cell_type": "markdown",
   "metadata": {},
   "source": [
    "- pug에서 | (pipe 기호)는 우측의 모든 요소를 text화 해준다.(즉, 예약어를 우회할 수 있음)\n",
    "- sns 로그인 UI 추가해봄"
   ]
  },
  {
   "cell_type": "code",
   "execution_count": null,
   "metadata": {},
   "outputs": [],
   "source": [
    "// lviews/ogin.pug\n",
    "\n",
    "extends layouts/main.pug\n",
    "\n",
    "block content\n",
    "\t.form__container\n",
    "\t\tform(action=routes.login, method=\"post\")\n",
    "\t\t\tinput(type=\"email\", name=\"email\", placeholder=\"Email\")\n",
    "\t\t\tinput(type=\"password\", name=\"password\", placeholder=\"Password\")\n",
    "\t\t\tinput(type=\"submit\", value=\"Log In\")\n",
    "\t\tinclude partials/socialLogin"
   ]
  },
  {
   "cell_type": "code",
   "execution_count": null,
   "metadata": {},
   "outputs": [],
   "source": [
    "// views/join.pug\n",
    "\n",
    "extends layouts/main.pug\n",
    "\n",
    "block content\n",
    "\t.form__container\n",
    "\t\tform(action=routes.join, method=\"post\")\n",
    "\t\t\tinput(type=\"text\", name=\"name\", placeholder=\"Full Name\")\n",
    "\t\t\tinput(type=\"email\", name=\"email\", placeholder=\"Email\")\n",
    "\t\t\tinput(type=\"password\", name=\"password\", placeholder=\"Password\")\n",
    "\t\t\tinput(type=\"password\", name=\"password2\", placeholder=\"Verify Password\")\n",
    "\t\t\tinput(type=\"submit\", value=\"Join Now\")\n",
    "\t\tinclude partials/socialLogin"
   ]
  },
  {
   "cell_type": "code",
   "execution_count": null,
   "metadata": {},
   "outputs": [],
   "source": [
    "// views/partials/socialLogin.pug\n",
    "\n",
    ".social-login\n",
    "\tbutton.social-login--github\n",
    "\t\tspan\n",
    "\t\t\ti.fab.fa-github\n",
    "\t\t|&nbsp;Continue with Github\n",
    "\tbutton.social-login--facebook\n",
    "\t\tspan\n",
    "\t\t\ti.fab.fa-facebook\n",
    "\t\t|&nbsp;Continue with Facebook"
   ]
  },
  {
   "cell_type": "code",
   "execution_count": null,
   "metadata": {},
   "outputs": [],
   "source": []
  }
 ],
 "metadata": {
  "kernelspec": {
   "display_name": "Javascript (Node.js)",
   "language": "javascript",
   "name": "javascript"
  },
  "language_info": {
   "file_extension": ".js",
   "mimetype": "application/javascript",
   "name": "javascript",
   "version": "10.20.1"
  }
 },
 "nbformat": 4,
 "nbformat_minor": 4
}
