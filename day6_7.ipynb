{
 "cells": [
  {
   "cell_type": "markdown",
   "metadata": {},
   "source": [
    "# 6일차 3.11 (Installing ESLint)\n",
    "\n",
    "- const videos = await Video.find({}).sort({ '_id': -1 }); // -1 은 반대로 정렬한다는 의미\n",
    "- eslint : 기본적으론 변수가 존재하지 않는데도 에러로 표시를 안해줌. eslint 깔면 도와줌.\n",
    "- eslint --init : eslint 초기설정\n",
    "\n",
    "    √ How would you like to use ESLint? · style       \n",
    "    \n",
    "    √ What type of modules does your project use? · esm\n",
    "    \n",
    "    √ Which framework does your project use? · none\n",
    "    \n",
    "    √ Does your project use TypeScript? · No / Yes\n",
    "    \n",
    "    √ Where does your code run? · browser\n",
    "    \n",
    "    √ How would you like to define a style for your project? · guide\n",
    "    \n",
    "    √ Which style guide do you want to follow? · airbnb\n",
    "    \n",
    "    √ What format do you want your config file to be in? · JavaScript\n",
    "    \n",
    "\n",
    "- npm install eslint, eslint-config-prettier, eslint-plugin-prettier, prettier\n",
    "- eslilnt에서는 console.log를 쓰지말라고함. 이 때 eslintrc.js 에서 rules: { \"no-console\": \"off\" } 로 경고 없앨 수 있음."
   ]
  },
  {
   "cell_type": "markdown",
   "metadata": {},
   "source": [
    "# 7일차 3.12 (Searching Videos)\n",
    "\n",
    "- model.find()과 정규식 표현을 같이 사용할 수 있음\n",
    "- pug 에서 if .. else 문 사용법, "
   ]
  },
  {
   "cell_type": "code",
   "execution_count": null,
   "metadata": {},
   "outputs": [],
   "source": [
    "// controllers/videoController.js\n",
    "\n",
    "// ... 중략 ...\n",
    "\n",
    "videos = await Video.find({ title: { $regex: searchingBy, $options: \"i\" } })\n",
    "\n",
    "// ... 중략 ..."
   ]
  },
  {
   "cell_type": "code",
   "execution_count": null,
   "metadata": {},
   "outputs": [],
   "source": [
    "// views/videoDetails.pug\n",
    "\n",
    "extends layouts/main.pug\n",
    "\n",
    "block content\n",
    "\t.video__player\n",
    "\t\tvideo(src=video.fileUrl, width=300, height=300, controls=true)\n",
    "\t.video__info\n",
    "\t\ta(href=routes.editVideo(video.id)) Edit Video\n",
    "\t\th5.video__title=video.title\n",
    "\t\tspan.video__views=video.views\n",
    "\t\tp.video__description=video.description\n",
    "\t.video__comments\n",
    "\t\tif video.comments.length === 1\n",
    "\t\t\tspan.video__comment-number 1 comment\n",
    "\t\telse\n",
    "\t\t\tspan.video__comment-number #{video.comments.length} comments"
   ]
  },
  {
   "cell_type": "markdown",
   "metadata": {},
   "source": [
    "# 7일차 4.0 (Introduction to Webpack)\n",
    "\n",
    "- Backend 50% 끝내고, Frontend 시작한다고 함\n",
    "- SCSS 개념 (https://heropy.blog/2018/01/31/sass/)\n",
    "- webpack이란? module bundler\n",
    "- npm install webpack webpack-cli\n",
    "- webpack-cli는 터미널에서 사용할 수 있도록 해줌\n",
    "- webpack.config.js 생성해야함\n",
    "- webpack은 entry와 output이 있어야 함\n",
    "- assets/js/main.js, assets/scss/styles.scss 만듦\n"
   ]
  },
  {
   "cell_type": "code",
   "execution_count": null,
   "metadata": {},
   "outputs": [],
   "source": [
    "// webpack.config.js\n",
    "\n",
    "const path = require(\"path\");\n",
    "\n",
    "const ENTRY_FILE = path.resolve(__dirname, \"assets\", \"js\", \"main.js\");\n",
    "const OUTPUT_DIR = path.join(__dirname, \"static\");\n",
    "\n",
    "const config = {\n",
    "\tentry: ENTRY_FILE,\n",
    "\toutput: {\n",
    "\t\tpath: OUTPUT_DIR,\n",
    "\t\tfilename: \"[name].[format]\"\n",
    "\t}\n",
    "}\n",
    "\n",
    "module.exports = config;"
   ]
  },
  {
   "cell_type": "code",
   "execution_count": null,
   "metadata": {},
   "outputs": [],
   "source": [
    "// main.js\n",
    "\n",
    "import \"../scss/styles.scss\";\n"
   ]
  },
  {
   "cell_type": "code",
   "execution_count": null,
   "metadata": {},
   "outputs": [],
   "source": [
    "// styles.css\n",
    "\n",
    "body {\n",
    "\tbackground-color: red;\n",
    "}"
   ]
  },
  {
   "cell_type": "markdown",
   "metadata": {},
   "source": [
    "# 7일차 4.1 (Styles with Webpack part One)\n",
    "\n",
    "- "
   ]
  }
 ],
 "metadata": {
  "kernelspec": {
   "display_name": "Javascript (Node.js)",
   "language": "javascript",
   "name": "javascript"
  },
  "language_info": {
   "file_extension": ".js",
   "mimetype": "application/javascript",
   "name": "javascript",
   "version": "10.20.1"
  }
 },
 "nbformat": 4,
 "nbformat_minor": 4
}
