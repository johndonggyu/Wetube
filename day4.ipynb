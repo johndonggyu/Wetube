{
 "cells": [
  {
   "cell_type": "markdown",
   "metadata": {},
   "source": [
    "# 4일차 2.21 (Home Controller)\n",
    "\n",
    "- pug 에서 iteration 배움"
   ]
  },
  {
   "cell_type": "code",
   "execution_count": null,
   "metadata": {},
   "outputs": [],
   "source": [
    "// views/home.pug\n",
    "\n",
    "extends layouts/main.pug\n",
    "\n",
    "block content\n",
    "\t.videos\n",
    "\t\teach video in videos\n",
    "\t\t\th1= video.title\n",
    "\t\t\tp=video.description"
   ]
  },
  {
   "cell_type": "markdown",
   "metadata": {},
   "source": [
    "- 가상의 db 를 만들고, export/import 해서 변수를 불러와서 사용하는 법 배움"
   ]
  },
  {
   "cell_type": "code",
   "execution_count": null,
   "metadata": {},
   "outputs": [],
   "source": [
    "// db.js\n",
    "\n",
    "export const videos = [\n",
    "\t{\n",
    "\t\tid: 324393,\n",
    "\t\ttitle: 'Video awesome',\n",
    "\t\tdescription: 'This is something I love',\n",
    "\t\tviews: 24,\n",
    "\t\tvideoFile: \"https://archive.org/details/BigBuckBunny_123\",\n",
    "\t\tcreator: {\n",
    "\t\t\tid: 121212,\n",
    "\t\t\tname: \"John Kim\",\n",
    "\t\t\temail: \"johndonggyu@naver.com\"\n",
    "\t\t}\n",
    "\t},\n",
    "\t{\n",
    "\t\tid: 324394,\n",
    "\t\ttitle: 'Video super',\n",
    "\t\tdescription: 'This is something I love',\n",
    "\t\tviews: 24,\n",
    "\t\tvideoFile: \"https://archive.org/details/BigBuckBunny_123\",\n",
    "\t\tcreator: {\n",
    "\t\t\tid: 121212,\n",
    "\t\t\tname: \"John Kim\",\n",
    "\t\t\temail: \"johndonggyu@naver.com\"\n",
    "\t\t}\n",
    "\t},\n",
    "\t{\n",
    "\t\tid: 324392,\n",
    "\t\ttitle: 'Video nice',\n",
    "\t\tdescription: 'This is something I love',\n",
    "\t\tviews: 24,\n",
    "\t\tvideoFile: \"https://archive.org/details/BigBuckBunny_123\",\n",
    "\t\tcreator: {\n",
    "\t\t\tid: 121212,\n",
    "\t\t\tname: \"John Kim\",\n",
    "\t\t\temail: \"johndonggyu@naver.com\"\n",
    "\t\t}\n",
    "\t},\n",
    "\t{\n",
    "\t\tid: 324391,\n",
    "\t\ttitle: 'Video perfect',\n",
    "\t\tdescription: 'This is something I love',\n",
    "\t\tviews: 24,\n",
    "\t\tvideoFile: \"https://archive.org/details/BigBuckBunny_123\",\n",
    "\t\tcreator: {\n",
    "\t\t\tid: 121212,\n",
    "\t\t\tname: \"John Kim\",\n",
    "\t\t\temail: \"johndonggyu@naver.com\"\n",
    "\t\t}\n",
    "\t}\n",
    "]"
   ]
  },
  {
   "cell_type": "code",
   "execution_count": null,
   "metadata": {},
   "outputs": [],
   "source": [
    "// controllers/videoController.js\n",
    "\n",
    "import { videos } from \"../db\"\n",
    "export const home = (req, res) => res.render(\"home\", { pageTitle: \"Home\", videos });\n",
    "export const search = (req, res) => {\n",
    "\tconst {\n",
    "\t\tquery: { term: searchingBy }\n",
    "\t} = req;\n",
    "\tres.render(\"search\", { pageTitle: \"Search\", searchingBy });\n",
    "}\n",
    "export const upload = (req, res) => res.render(\"upload\", { pageTitle: \"Upload\" });\n",
    "export const videoDetail = (req, res) => res.render(\"videoDetail\", { pageTitle: \"Video Detail\" });\n",
    "export const editVideo = (req, res) => res.render(\"editVideo\", { pageTitle: \"Edit Video\" });\n",
    "export const deleteVideo = (req, res) => res.render(\"deleteVideo\", { pageTitle: \"Delete Video\" });"
   ]
  },
  {
   "cell_type": "code",
   "execution_count": null,
   "metadata": {},
   "outputs": [],
   "source": []
  }
 ],
 "metadata": {
  "kernelspec": {
   "display_name": "Javascript (Node.js)",
   "language": "javascript",
   "name": "javascript"
  },
  "language_info": {
   "file_extension": ".js",
   "mimetype": "application/javascript",
   "name": "javascript",
   "version": "10.20.1"
  }
 },
 "nbformat": 4,
 "nbformat_minor": 4
}
