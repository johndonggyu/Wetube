{
 "cells": [
  {
   "cell_type": "markdown",
   "metadata": {},
   "source": [
    "# 1주차 - 2.7\n",
    "\n",
    "- morgan : 로깅 middleware\n",
    "- helmet : 보안 middleware\n",
    "- body-parser : http body 파싱해서 객체화 해주는 middleware\n",
    "- cookie-parser : browser의 cookie 파싱해서 객체화 해주는 middleware"
   ]
  },
  {
   "cell_type": "code",
   "execution_count": null,
   "metadata": {},
   "outputs": [],
   "source": [
    "//index.js \n",
    "\n",
    "import express from \"express\";\n",
    "import morgan from \"morgan\";\n",
    "import helmet from \"helmet\";\n",
    "import bodyParser from \"body-parser\";\n",
    "import cookieParser from \"cookie-parser\"\n",
    "\n",
    "const app = express()\n",
    "\n",
    "const PORT = 4000;\n",
    "\n",
    "const handleListening = () =>\n",
    "    console.log(`Listening on http://localhost:${PORT}`);\n",
    "\n",
    "const handleHome = (req, res) => res.send(\"Hello from Home\");\n",
    "\n",
    "const handleProfile = (req, res) => res.send(\"You are on my profile\");\n",
    "\n",
    "app.use(cookieParser());\n",
    "app.use(bodyParser.json());\n",
    "app.use(bodyParser.urlencoded({ extended: true }));\n",
    "app.use(helmet());\n",
    "app.use(morgan(\"dev\"));\n",
    "\n",
    "app.get(\"/\", handleHome);\n",
    "\n",
    "app.get(\"/profile\", handleProfile);\n",
    "\n",
    "app.listen(4000, handleListening);"
   ]
  },
  {
   "cell_type": "markdown",
   "metadata": {},
   "source": [
    "# 1주차 - 2.8\n",
    "\n",
    "- router 개념 등장, 파일 모듈로 분리함"
   ]
  },
  {
   "cell_type": "code",
   "execution_count": null,
   "metadata": {},
   "outputs": [],
   "source": [
    "// app.js\n",
    "\n",
    "import express from \"express\";\n",
    "import morgan from \"morgan\";\n",
    "import helmet from \"helmet\";\n",
    "import bodyParser from \"body-parser\";\n",
    "import cookieParser from \"cookie-parser\"\n",
    "import { userRouter } from \"./router\"; // dexport default를 설정하지 않으면 이렇게 import 해줘야 한다. router.js 참고\n",
    "const app = express()\n",
    "\n",
    "const handleHome = (req, res) => res.send(\"Hello from Home\");\n",
    "\n",
    "const handleProfile = (req, res) => res.send(\"You are on my profile\");\n",
    "\n",
    "app.use(cookieParser());\n",
    "app.use(bodyParser.json());\n",
    "app.use(bodyParser.urlencoded({ extended: true }));\n",
    "app.use(helmet());\n",
    "app.use(morgan(\"dev\"));\n",
    "\n",
    "app.get(\"/\", handleHome);\n",
    "\n",
    "app.get(\"/profile\", handleProfile);\n",
    "\n",
    "app.use(\"/user\", userRouter); // router.js 를 middleware 형태로 사용함\n",
    "\n",
    "export default app;"
   ]
  },
  {
   "cell_type": "code",
   "execution_count": null,
   "metadata": {},
   "outputs": [],
   "source": [
    "// init.js\n",
    "\n",
    "import app from \"./app\";\n",
    "const PORT = 4000;\n",
    "const handleListening = () =>\n",
    "    console.log(`Listening on http://localhost:${PORT}`);\n",
    "app.listen(PORT, handleListening);"
   ]
  },
  {
   "cell_type": "code",
   "execution_count": null,
   "metadata": {},
   "outputs": [],
   "source": [
    "// router.js\n",
    "\n",
    "import express from \"express\";\n",
    "\n",
    "export const userRouter = express.Router();\n",
    "\n",
    "userRouter.get(\"/\", (req, res) => res.send(\"user index\")); // /user 경로 router\n",
    "userRouter.get(\"/edit\", (req, res) => res.send(\"user edit\")); //user/edit 경로 router\n",
    "userRouter.get(\"/password\", (req, res) => res.send(\"user password\")); //user/password 경로 router"
   ]
  }
 ],
 "metadata": {
  "kernelspec": {
   "display_name": "jp-Babel (Node.js)",
   "language": "babel",
   "name": "babel"
  },
  "language_info": {
   "file_extension": ".js",
   "mimetype": "application/javascript",
   "name": "javascript",
   "version": "10.20.1"
  }
 },
 "nbformat": 4,
 "nbformat_minor": 4
}
