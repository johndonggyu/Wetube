{
 "cells": [
  {
   "cell_type": "markdown",
   "metadata": {},
   "source": [
    "# 2일차 - 2.17 (Template Variables in Pug)\n",
    "\n",
    "- template 에 변수를 넘기는 법을 배움"
   ]
  },
  {
   "cell_type": "code",
   "execution_count": null,
   "metadata": {},
   "outputs": [],
   "source": [
    "// videoController.js\n",
    "\n",
    "export const home = (req, res) => res.render(\"home\", { pageTitle: \"Home\" });\n",
    "export const search = (req, res) => res.render(\"search\", { pageTitle: \"Search\" });\n",
    "export const videos = (req, res) => res.render(\"vidoes\", { pageTitle: \"Vidoes\" });\n",
    "export const upload = (req, res) => res.render(\"upload\", { pageTitle: \"Upload\" });\n",
    "export const videoDetail = (req, res) => res.render(\"videoDetail\", { pageTitle: \"Video Detail\" });\n",
    "export const editVideo = (req, res) => res.render(\"editVideo\", { pageTitle: \"Edit Video\" });\n",
    "export const deleteVideo = (req, res) => res.render(\"deleteVideo\", { pageTitle: \"Delete Video\" });"
   ]
  },
  {
   "cell_type": "markdown",
   "metadata": {},
   "source": [
    "- 아래 #{pageTitle} 이란 변수가 있다."
   ]
  },
  {
   "cell_type": "code",
   "execution_count": null,
   "metadata": {},
   "outputs": [],
   "source": [
    "// main.pug\n",
    "\n",
    "doctype html\n",
    "html\n",
    "\thead\n",
    "\t\tlink(rel=\"stylesheet\",href=\"https://use.fontawesome.com/releases/v5.15.1/css/all.css\" integrity=\"sha384-vp86vTRFVJgpjF9jiIGPEEqYqlDwgyBgEF109VFjmqGmIY/Y4HV4d3Gp2irVfcrp\",crossorigin=\"anonymous\")\n",
    "\t\ttitle #{pageTitle} | #{siteName}\n",
    "\tbody\n",
    "\t\tinclude ../partials/header\n",
    "\t\tmain\n",
    "\t\t\tblock content\n",
    "\t\tinclude ../partials/footer"
   ]
  },
  {
   "cell_type": "markdown",
   "metadata": {},
   "source": [
    "- 아래 예시를 보면 알다시피, main.pug는 현재 모든 template 에 extends 되어 있다."
   ]
  },
  {
   "cell_type": "code",
   "execution_count": null,
   "metadata": {},
   "outputs": [],
   "source": [
    "// editProfile.pug\n",
    "\n",
    "extends layouts/main.pug\n",
    "\n",
    "block content\n",
    "\tp Hello"
   ]
  },
  {
   "cell_type": "markdown",
   "metadata": {},
   "source": [
    "# 2일차 - 2.18 (Search Controller)\n",
    "\n",
    "- pug에서 form과 input 사용법 배움\n",
    "- form 으로부터 받은 data 를 controller에서 처리하는 법 배움\n",
    "- 다시 controller 로부터 받은 data를 view 인 template/pug/search.pug 로 받는 법 배움"
   ]
  },
  {
   "cell_type": "code",
   "execution_count": null,
   "metadata": {},
   "outputs": [],
   "source": [
    "// header.pug\n",
    "\n",
    "header.header\n",
    "\t.header__column\n",
    "\t\ta(href=routes.home)\n",
    "\t\ti.fab.fa-youtube\n",
    "\t.header__column\n",
    "\t\tform(action=routes.search, method=\"get\")\n",
    "\t\t\tinput(type=\"text\", placeholder=\"Search by term...\", name=\"term\")\n",
    "\t.header__column\n",
    "\t\tul\n",
    "\t\t\tli\n",
    "\t\t\t\ta(href=routes.join) Join\n",
    "\t\t\tli\n",
    "\t\t\t\ta(href=routes.login) Log In"
   ]
  },
  {
   "cell_type": "code",
   "execution_count": null,
   "metadata": {},
   "outputs": [],
   "source": [
    "// search.pug\n",
    "\n",
    "extends layouts/main.pug\n",
    "\n",
    "block content\n",
    "\t.search__header\n",
    "\t\th3 Searching by #{searchingBy}"
   ]
  },
  {
   "cell_type": "code",
   "execution_count": null,
   "metadata": {},
   "outputs": [],
   "source": [
    "// videoController.js\n",
    "\n",
    "export const home = (req, res) => res.render(\"home\", { pageTitle: \"Home\" });\n",
    "export const search = (req, res) => {\n",
    "\t// before es6\n",
    "\t// const searchingBy = req.query.term;\n",
    "\t// after es6\n",
    "\tconst {\n",
    "\t\tquery: { term: searchingBy }\n",
    "\t} = req;\n",
    "\t// 아래 searchingBy는 생략해도, babel에서 변수와 동일한 입력값이라고 생각함\n",
    "\t//res.render(\"search\", { pageTitle: \"Search\", searchingBy: searchingBy });\n",
    "\tres.render(\"search\", { pageTitle: \"Search\", searchingBy });\n",
    "}\n",
    "export const videos = (req, res) => res.render(\"vidoes\", { pageTitle: \"Vidoes\" });\n",
    "export const upload = (req, res) => res.render(\"upload\", { pageTitle: \"Upload\" });\n",
    "export const videoDetail = (req, res) => res.render(\"videoDetail\", { pageTitle: \"Video Detail\" });\n",
    "export const editVideo = (req, res) => res.render(\"editVideo\", { pageTitle: \"Edit Video\" });\n",
    "export const deleteVideo = (req, res) => res.render(\"deleteVideo\", { pageTitle: \"Delete Video\" });"
   ]
  },
  {
   "cell_type": "code",
   "execution_count": null,
   "metadata": {},
   "outputs": [],
   "source": []
  }
 ],
 "metadata": {
  "kernelspec": {
   "display_name": "Javascript (Node.js)",
   "language": "javascript",
   "name": "javascript"
  },
  "language_info": {
   "file_extension": ".js",
   "mimetype": "application/javascript",
   "name": "javascript",
   "version": "10.20.1"
  }
 },
 "nbformat": 4,
 "nbformat_minor": 4
}
