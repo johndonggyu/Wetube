{
 "cells": [
  {
   "cell_type": "markdown",
   "metadata": {},
   "source": [
    "# 2일차 - 2.17 (Template Variables in Pug)\n",
    "\n",
    "- template 에 변수를 넘기는 법을 배움"
   ]
  },
  {
   "cell_type": "code",
   "execution_count": null,
   "metadata": {},
   "outputs": [],
   "source": [
    "// videoController.js\n",
    "\n",
    "export const home = (req, res) => res.render(\"home\", { pageTitle: \"Home\" });\n",
    "export const search = (req, res) => res.render(\"search\", { pageTitle: \"Search\" });\n",
    "export const videos = (req, res) => res.render(\"vidoes\", { pageTitle: \"Vidoes\" });\n",
    "export const upload = (req, res) => res.render(\"upload\", { pageTitle: \"Upload\" });\n",
    "export const videoDetail = (req, res) => res.render(\"videoDetail\", { pageTitle: \"Video Detail\" });\n",
    "export const editVideo = (req, res) => res.render(\"editVideo\", { pageTitle: \"Edit Video\" });\n",
    "export const deleteVideo = (req, res) => res.render(\"deleteVideo\", { pageTitle: \"Delete Video\" });"
   ]
  },
  {
   "cell_type": "markdown",
   "metadata": {},
   "source": [
    "- 아래 #{pageTitle} 이란 변수가 있다."
   ]
  },
  {
   "cell_type": "code",
   "execution_count": null,
   "metadata": {},
   "outputs": [],
   "source": [
    "// main.pug\n",
    "\n",
    "doctype html\n",
    "html\n",
    "\thead\n",
    "\t\tlink(rel=\"stylesheet\",href=\"https://use.fontawesome.com/releases/v5.15.1/css/all.css\" integrity=\"sha384-vp86vTRFVJgpjF9jiIGPEEqYqlDwgyBgEF109VFjmqGmIY/Y4HV4d3Gp2irVfcrp\",crossorigin=\"anonymous\")\n",
    "\t\ttitle #{pageTitle} | #{siteName}\n",
    "\tbody\n",
    "\t\tinclude ../partials/header\n",
    "\t\tmain\n",
    "\t\t\tblock content\n",
    "\t\tinclude ../partials/footer"
   ]
  },
  {
   "cell_type": "markdown",
   "metadata": {},
   "source": [
    "- 아래 예시를 보면 알다시피, main.pug는 현재 모든 template 에 extends 되어 있다."
   ]
  },
  {
   "cell_type": "code",
   "execution_count": null,
   "metadata": {},
   "outputs": [],
   "source": [
    "// editProfile.pug\n",
    "\n",
    "extends layouts/main.pug\n",
    "\n",
    "block content\n",
    "\tp Hello"
   ]
  },
  {
   "cell_type": "code",
   "execution_count": null,
   "metadata": {},
   "outputs": [],
   "source": []
  }
 ],
 "metadata": {
  "kernelspec": {
   "display_name": "Javascript (Node.js)",
   "language": "javascript",
   "name": "javascript"
  },
  "language_info": {
   "file_extension": ".js",
   "mimetype": "application/javascript",
   "name": "javascript",
   "version": "10.20.1"
  }
 },
 "nbformat": 4,
 "nbformat_minor": 4
}
